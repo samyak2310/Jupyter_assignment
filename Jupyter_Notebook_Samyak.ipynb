{
 "cells": [
  {
   "cell_type": "markdown",
   "metadata": {},
   "source": [
    "<center>\n",
    "    <img src=\"https://cf-courses-data.s3.us.cloud-object-storage.appdomain.cloud/IBMDeveloperSkillsNetwork-DS0105EN-SkillsNetwork/labs/Module2/images/SN_web_lightmode.png\" width=\"300\" alt=\"cognitiveclass.ai logo\">\n",
    "</center>\n"
   ]
  },
  {
   "cell_type": "markdown",
   "metadata": {},
   "source": [
    "#### Add your code below following the instructions given in the course\n"
   ]
  },
  {
   "cell_type": "markdown",
   "metadata": {},
   "source": [
    "1.Create a markdown cell with the title of the notebook.\n",
    "# Jupyter Assignment\n",
    "## My first assignment"
   ]
  },
  {
   "cell_type": "markdown",
   "metadata": {},
   "source": [
    "2. Create a markdown cell for an introduction\n",
    "### This is an assignment submitted for a Peer Review"
   ]
  },
  {
   "cell_type": "markdown",
   "metadata": {},
   "source": [
    "3. Create a markdown cell to list data science languages. \n",
    "\n",
    "Data science Languages\n",
    "1. Python\n",
    "2. R\n",
    "3. SQL\n",
    "4. Java\n",
    "5. Julia\n",
    "6. Scala\n",
    "7. C/C++\n",
    "8. JavaScript\n",
    "9. Swift\n",
    "10. Go\n",
    "11. MATLAB\n",
    "12. SAS"
   ]
  },
  {
   "cell_type": "markdown",
   "metadata": {},
   "source": [
    "4. Create a markdown cell to list data science libraries. \n",
    "\n",
    "Libraries for Data Science\n",
    "1. TensorFlow\n",
    "2. SciPy\n",
    "3. NumPy\n",
    "4. Pandas\n",
    "5. Matplotlib\n",
    "6. Keras\n",
    "7. Scikit-learn\n",
    "8. PyTorch\n",
    "9. Scrapy\n",
    "10. BeautifulSoup"
   ]
  },
  {
   "cell_type": "markdown",
   "metadata": {},
   "source": [
    "5. Create a markdown cell with a table of Data Science tools. \n",
    "\n",
    "<table style=\"width:20%\">\n",
    "<tr>\n",
    "<th>Data Science Tools</th>\n",
    "</tr>\n",
    "<tr>\n",
    "<td>Apache Spark</td>\n",
    "</tr>\n",
    "<tr>\n",
    "<td>IBM SPSS</td>\n",
    "</tr>\n",
    "<tr>\n",
    "<td>Jupyter Notebook</td>\n",
    "</tr>\n",
    "<tr>\n",
    "<td>Julia</td>\n",
    "</tr>\n",
    "    <tr>\n",
    "<td>Matlab</td>\n",
    "</tr>\n",
    "      <tr>\n",
    "<td>Matplotlib</td>\n",
    "</tr>\n",
    "      <tr>\n",
    "<td>NumPy</td>\n",
    "</tr>\n",
    "      <tr>\n",
    "<td>Pandas</td>\n",
    "</tr>\n",
    "</table>"
   ]
  },
  {
   "cell_type": "markdown",
   "metadata": {},
   "source": [
    "\n",
    "## Addition\n",
    "#2 + 2\n",
    "\n",
    "## Subtraction\n",
    "#3 - 1\n",
    "\n",
    "## Multiplication\n",
    "#3 * 5\n",
    "\n",
    "## Division\n",
    "#20 / 5\n",
    "\n",
    "## Exponentiation\n",
    "#2 ** 4\n",
    "\n",
    "## Integer remainder\n",
    "#5 % 2\n",
    "\n"
   ]
  },
  {
   "cell_type": "code",
   "execution_count": 19,
   "metadata": {},
   "outputs": [
    {
     "data": {
      "text/plain": [
       "10"
      ]
     },
     "execution_count": 19,
     "metadata": {},
     "output_type": "execute_result"
    }
   ],
   "source": [
    "(2*3)+4\n"
   ]
  },
  {
   "cell_type": "code",
   "execution_count": 43,
   "metadata": {},
   "outputs": [
    {
     "name": "stdin",
     "output_type": "stream",
     "text": [
      " 3\n"
     ]
    },
    {
     "data": {
      "text/plain": [
       "0.0"
      ]
     },
     "execution_count": 43,
     "metadata": {},
     "output_type": "execute_result"
    }
   ],
   "source": [
    "##convert minutes to hours\n",
    "minutes=float(input())\n",
    "minutes//60\n"
   ]
  },
  {
   "cell_type": "markdown",
   "metadata": {},
   "source": [
    "Exercise 2 - Create a markdown cell with the title of the notebook. \n",
    "\n",
    "Exercise 3 - Create a markdown cell for an introduction. \n",
    "\n",
    "Exercise 4 - Create a markdown cell to list data science languages. \n",
    "\n",
    "Exercise 5 - Create a markdown cell to list data science libraries. \n",
    "\n",
    "Exercise 6 - Create a markdown cell with a table of Data Science tools. \n",
    "\n",
    "Exercise 7 - Create a markdown cell introducing arithmetic expression examples. \n",
    "\n",
    "Exercise 8 - Create a code cell to multiply and add numbers.\n",
    "\n",
    "Exercise 9 - Create a code cell to convert minutes to hours. "
   ]
  },
  {
   "cell_type": "markdown",
   "metadata": {},
   "source": [
    "###Author:Samyak Jain"
   ]
  },
  {
   "cell_type": "code",
   "execution_count": null,
   "metadata": {},
   "outputs": [],
   "source": []
  }
 ],
 "metadata": {
  "kernelspec": {
   "display_name": "Python",
   "language": "python",
   "name": "conda-env-python-py"
  },
  "language_info": {
   "codemirror_mode": {
    "name": "ipython",
    "version": 3
   },
   "file_extension": ".py",
   "mimetype": "text/x-python",
   "name": "python",
   "nbconvert_exporter": "python",
   "pygments_lexer": "ipython3",
   "version": "3.7.12"
  }
 },
 "nbformat": 4,
 "nbformat_minor": 4
}
